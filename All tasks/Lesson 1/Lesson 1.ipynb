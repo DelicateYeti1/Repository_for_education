{
 "cells": [
  {
   "cell_type": "code",
   "execution_count": 33,
   "id": "51d75ae6",
   "metadata": {},
   "outputs": [
    {
     "name": "stdout",
     "output_type": "stream",
     "text": [
      "1245965\n",
      "['5', '2', '4', '5', '9', '6', '1']\n"
     ]
    }
   ],
   "source": [
    "a = list(input())\n",
    "a.append(a[0])\n",
    "a.insert(0,a[len(a)-2])\n",
    "a.pop(len(a)-2)\n",
    "a.pop(1)\n",
    "print (a)"
   ]
  },
  {
   "cell_type": "code",
   "execution_count": null,
   "id": "c50db6a3",
   "metadata": {},
   "outputs": [],
   "source": []
  }
 ],
 "metadata": {
  "kernelspec": {
   "display_name": "Python 3",
   "language": "python",
   "name": "python3"
  },
  "language_info": {
   "codemirror_mode": {
    "name": "ipython",
    "version": 3
   },
   "file_extension": ".py",
   "mimetype": "text/x-python",
   "name": "python",
   "nbconvert_exporter": "python",
   "pygments_lexer": "ipython3",
   "version": "3.8.8"
  }
 },
 "nbformat": 4,
 "nbformat_minor": 5
}
