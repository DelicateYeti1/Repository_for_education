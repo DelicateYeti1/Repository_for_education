{
 "cells": [
  {
   "cell_type": "code",
   "execution_count": 49,
   "id": "f8683f01",
   "metadata": {},
   "outputs": [],
   "source": [
    "def F(n):\n",
    "    a = 1.0\n",
    "    while a < 15:\n",
    "        print (n ,' * ', a,' = ', n*a)\n",
    "        a = a + 0.5\n",
    "    return print (n ,' * ', a,' = ', n*a)"
   ]
  },
  {
   "cell_type": "code",
   "execution_count": 51,
   "id": "842f9519",
   "metadata": {
    "scrolled": true
   },
   "outputs": [
    {
     "name": "stdout",
     "output_type": "stream",
     "text": [
      "5\n",
      "5.0  *  1.0  =  5.0\n",
      "5.0  *  1.5  =  7.5\n",
      "5.0  *  2.0  =  10.0\n",
      "5.0  *  2.5  =  12.5\n",
      "5.0  *  3.0  =  15.0\n",
      "5.0  *  3.5  =  17.5\n",
      "5.0  *  4.0  =  20.0\n",
      "5.0  *  4.5  =  22.5\n",
      "5.0  *  5.0  =  25.0\n",
      "5.0  *  5.5  =  27.5\n",
      "5.0  *  6.0  =  30.0\n",
      "5.0  *  6.5  =  32.5\n",
      "5.0  *  7.0  =  35.0\n",
      "5.0  *  7.5  =  37.5\n",
      "5.0  *  8.0  =  40.0\n",
      "5.0  *  8.5  =  42.5\n",
      "5.0  *  9.0  =  45.0\n",
      "5.0  *  9.5  =  47.5\n",
      "5.0  *  10.0  =  50.0\n",
      "5.0  *  10.5  =  52.5\n",
      "5.0  *  11.0  =  55.0\n",
      "5.0  *  11.5  =  57.5\n",
      "5.0  *  12.0  =  60.0\n",
      "5.0  *  12.5  =  62.5\n",
      "5.0  *  13.0  =  65.0\n",
      "5.0  *  13.5  =  67.5\n",
      "5.0  *  14.0  =  70.0\n",
      "5.0  *  14.5  =  72.5\n",
      "5.0  *  15.0  =  75.0\n"
     ]
    }
   ],
   "source": [
    "n = float(input())\n",
    "F(n)"
   ]
  },
  {
   "cell_type": "code",
   "execution_count": null,
   "id": "5a02f2a6",
   "metadata": {},
   "outputs": [],
   "source": []
  }
 ],
 "metadata": {
  "kernelspec": {
   "display_name": "Python 3",
   "language": "python",
   "name": "python3"
  },
  "language_info": {
   "codemirror_mode": {
    "name": "ipython",
    "version": 3
   },
   "file_extension": ".py",
   "mimetype": "text/x-python",
   "name": "python",
   "nbconvert_exporter": "python",
   "pygments_lexer": "ipython3",
   "version": "3.8.8"
  }
 },
 "nbformat": 4,
 "nbformat_minor": 5
}
