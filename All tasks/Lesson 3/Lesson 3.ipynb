{
 "cells": [
  {
   "cell_type": "code",
   "execution_count": 79,
   "id": "b8a01d57",
   "metadata": {},
   "outputs": [],
   "source": [
    "import random\n",
    "def rps(n):\n",
    "    a = random.choice(['rock','paper','scissors'])\n",
    "    if a == n:\n",
    "        return 'Draw', a\n",
    "    elif (n + a == 'rockscissors') or (n + a == 'scisssorpaper') or (n + a == 'paperrock'):\n",
    "        return 'Win', a\n",
    "    else:\n",
    "        return 'Lose', a"
   ]
  },
  {
   "cell_type": "code",
   "execution_count": 83,
   "id": "e238a762",
   "metadata": {
    "scrolled": true
   },
   "outputs": [
    {
     "name": "stdout",
     "output_type": "stream",
     "text": [
      "paper\n",
      "('Win', 'rock')\n"
     ]
    }
   ],
   "source": [
    "n = input()\n",
    "print (rps(n))"
   ]
  },
  {
   "cell_type": "code",
   "execution_count": null,
   "id": "19ae031e",
   "metadata": {},
   "outputs": [],
   "source": []
  }
 ],
 "metadata": {
  "kernelspec": {
   "display_name": "Python 3",
   "language": "python",
   "name": "python3"
  },
  "language_info": {
   "codemirror_mode": {
    "name": "ipython",
    "version": 3
   },
   "file_extension": ".py",
   "mimetype": "text/x-python",
   "name": "python",
   "nbconvert_exporter": "python",
   "pygments_lexer": "ipython3",
   "version": "3.8.8"
  }
 },
 "nbformat": 4,
 "nbformat_minor": 5
}
