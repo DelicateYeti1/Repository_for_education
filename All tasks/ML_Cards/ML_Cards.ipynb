{
 "cells": [
  {
   "cell_type": "code",
   "execution_count": 21,
   "id": "ef8bcec9",
   "metadata": {},
   "outputs": [
    {
     "ename": "IndentationError",
     "evalue": "expected an indented block (<ipython-input-21-d848c7b598f9>, line 30)",
     "output_type": "error",
     "traceback": [
      "\u001b[1;36m  File \u001b[1;32m\"<ipython-input-21-d848c7b598f9>\"\u001b[1;36m, line \u001b[1;32m30\u001b[0m\n\u001b[1;33m    if self.suit != a:\u001b[0m\n\u001b[1;37m    ^\u001b[0m\n\u001b[1;31mIndentationError\u001b[0m\u001b[1;31m:\u001b[0m expected an indented block\n"
     ]
    }
   ],
   "source": [
    "import random\n",
    "class Card():\n",
    "    def __init__(self, suit, value):\n",
    "        self.suit = suit\n",
    "        self.value = value\n",
    "    \n",
    "    def comparison_suit(self):\n",
    "        if self.suit == random.choice(['Diamonds', 'Spades', 'Hearts', 'Clubs']):\n",
    "            print('There are 2 %s cards' %self.suit)\n",
    "        else:\n",
    "            print('There are 2 cards with different suits')\n",
    "    \n",
    "    def comparison_value(self):\n",
    "        if self.value == random.choice([2,3,4,5,6,7,8,9,10,'J','D','K','A']):\n",
    "            print('There are 2 cards with %s value' %self.value)\n",
    "        else:\n",
    "            print('There are 2 cards with different values')\n",
    "    \n",
    "    def random_switch(self):\n",
    "        self.suit = random.choice(['Diamonds', 'Spades', 'Hearts', 'Clubs'])\n",
    "        self.value = random.choice([2,3,4,5,6,7,8,9,10,'J','D','K','A'])\n",
    "        print(self.suit,',',self.value)\n",
    "        \n",
    "    def fight(self):\n",
    "        print('Please, enter the suit of second card')\n",
    "        a = input()\n",
    "        print('Please, enter the value of second card')\n",
    "        b = input()\n",
    "        for i in range(2):\n",
    "        if self.suit == int:\n",
    "            if self.suit != a:\n",
    "                if self.value > b:\n",
    "                    print('The first card won')\n",
    "                elif self.value < b:\n",
    "                    print('The second card won')\n",
    "                else:\n",
    "                    print('Both cards the same')\n",
    "            else:\n",
    "                print('Different suits of cards')\n",
    "        else:\n",
    "            "
   ]
  },
  {
   "cell_type": "code",
   "execution_count": 3,
   "id": "7853a35a",
   "metadata": {
    "scrolled": true
   },
   "outputs": [],
   "source": [
    "card1 = Card('Hearts', 10)"
   ]
  },
  {
   "cell_type": "code",
   "execution_count": 19,
   "id": "f3b92bbf",
   "metadata": {
    "scrolled": true
   },
   "outputs": [
    {
     "name": "stdout",
     "output_type": "stream",
     "text": [
      "There are 2 Spades cards\n"
     ]
    }
   ],
   "source": [
    "card1.comparison_suit()"
   ]
  },
  {
   "cell_type": "code",
   "execution_count": 9,
   "id": "72cddbcd",
   "metadata": {
    "scrolled": false
   },
   "outputs": [
    {
     "name": "stdout",
     "output_type": "stream",
     "text": [
      "There are 2 cards with 10 value\n"
     ]
    }
   ],
   "source": [
    "card1.comparison_value()"
   ]
  },
  {
   "cell_type": "code",
   "execution_count": 15,
   "id": "bc3231ad",
   "metadata": {
    "scrolled": true
   },
   "outputs": [
    {
     "name": "stdout",
     "output_type": "stream",
     "text": [
      "Spades , 4\n"
     ]
    }
   ],
   "source": [
    "card1.random_switch()"
   ]
  }
 ],
 "metadata": {
  "kernelspec": {
   "display_name": "Python 3",
   "language": "python",
   "name": "python3"
  },
  "language_info": {
   "codemirror_mode": {
    "name": "ipython",
    "version": 3
   },
   "file_extension": ".py",
   "mimetype": "text/x-python",
   "name": "python",
   "nbconvert_exporter": "python",
   "pygments_lexer": "ipython3",
   "version": "3.8.8"
  }
 },
 "nbformat": 4,
 "nbformat_minor": 5
}
