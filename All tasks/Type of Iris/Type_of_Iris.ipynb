{
 "cells": [
  {
   "cell_type": "code",
   "execution_count": 12,
   "id": "ba579fc2",
   "metadata": {},
   "outputs": [],
   "source": [
    "from sklearn.model_selection import train_test_split\n",
    "from sklearn.datasets import load_iris\n",
    "from sklearn.neighbors import KNeighborsClassifier\n",
    "\n",
    "iris_data = load_iris()\n",
    "iris_data.keys()\n",
    "\n",
    "X_train, X_test, Y_train, Y_test = train_test_split(iris_data['data'], iris_data['target'], random_state = 0)\n",
    "knn = KNeighborsClassifier(n_neighbors = 5)\n",
    "knn.fit(X_train, Y_train)\n",
    "prediction = knn.predict(X_test)"
   ]
  },
  {
   "cell_type": "code",
   "execution_count": 13,
   "id": "4d026af5",
   "metadata": {},
   "outputs": [
    {
     "name": "stdout",
     "output_type": "stream",
     "text": [
      "23\n",
      "True, thats Setosa\n"
     ]
    }
   ],
   "source": [
    "a = int(input())\n",
    "if prediction[a] == Y_test[a]:\n",
    "    if prediction[a] == 0:\n",
    "        print('True, thats Setosa')\n",
    "    if prediction[a] == 1:\n",
    "        print('True, thats Versicolor')\n",
    "    if prediction[a] == 2:\n",
    "        print('True, thats Virginica')"
   ]
  },
  {
   "cell_type": "code",
   "execution_count": 14,
   "id": "d327ddef",
   "metadata": {},
   "outputs": [
    {
     "name": "stdout",
     "output_type": "stream",
     "text": [
      "accuracy =  0.9736842105263158\n"
     ]
    }
   ],
   "source": [
    "print('accuracy = ', knn.score(X_test, Y_test))"
   ]
  }
 ],
 "metadata": {
  "kernelspec": {
   "display_name": "Python 3",
   "language": "python",
   "name": "python3"
  },
  "language_info": {
   "codemirror_mode": {
    "name": "ipython",
    "version": 3
   },
   "file_extension": ".py",
   "mimetype": "text/x-python",
   "name": "python",
   "nbconvert_exporter": "python",
   "pygments_lexer": "ipython3",
   "version": "3.8.8"
  }
 },
 "nbformat": 4,
 "nbformat_minor": 5
}
