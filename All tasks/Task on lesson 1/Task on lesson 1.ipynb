{
 "cells": [
  {
   "cell_type": "code",
   "execution_count": 52,
   "id": "2d275300",
   "metadata": {},
   "outputs": [],
   "source": [
    "import random\n",
    "def F(a,b):\n",
    "    o_list = []\n",
    "    a_list = []\n",
    "    n = 0\n",
    "    while (n < b):\n",
    "        a_list = []\n",
    "        m = 0\n",
    "        while (m < a):\n",
    "            a_list.append(random.randint(0,100))\n",
    "            m = m + 1\n",
    "        o_list.append(a_list)\n",
    "        n = n + 1\n",
    "    return print (o_list)"
   ]
  },
  {
   "cell_type": "code",
   "execution_count": 53,
   "id": "998922ad",
   "metadata": {
    "scrolled": false
   },
   "outputs": [
    {
     "name": "stdout",
     "output_type": "stream",
     "text": [
      "3\n",
      "4\n",
      "[[97, 59, 82], [58, 83, 41], [60, 19, 71], [84, 52, 35]]\n"
     ]
    }
   ],
   "source": [
    "a = int(input())\n",
    "b = int(input())\n",
    "F(a,b)"
   ]
  },
  {
   "cell_type": "markdown",
   "id": "0b71492e",
   "metadata": {},
   "source": [
    " "
   ]
  }
 ],
 "metadata": {
  "kernelspec": {
   "display_name": "Python 3",
   "language": "python",
   "name": "python3"
  },
  "language_info": {
   "codemirror_mode": {
    "name": "ipython",
    "version": 3
   },
   "file_extension": ".py",
   "mimetype": "text/x-python",
   "name": "python",
   "nbconvert_exporter": "python",
   "pygments_lexer": "ipython3",
   "version": "3.8.8"
  }
 },
 "nbformat": 4,
 "nbformat_minor": 5
}
