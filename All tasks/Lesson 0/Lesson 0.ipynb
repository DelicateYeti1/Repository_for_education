{
 "cells": [
  {
   "cell_type": "code",
   "execution_count": 18,
   "id": "6eb07d3c",
   "metadata": {},
   "outputs": [
    {
     "name": "stdout",
     "output_type": "stream",
     "text": [
      "False\n"
     ]
    }
   ],
   "source": [
    "a = 19 % 4\n",
    "b = 300 / 10 / 10\n",
    "c = False\n",
    "print(bool(a) != bool(b) and c)"
   ]
  },
  {
   "cell_type": "code",
   "execution_count": 19,
   "id": "31a4e1c3",
   "metadata": {},
   "outputs": [
    {
     "name": "stdout",
     "output_type": "stream",
     "text": [
      "True\n"
     ]
    }
   ],
   "source": [
    "print(bool(-(1 ** 2) < 2 ** 0) and bool(10 % 10 <= 20 - 10 * 2))"
   ]
  },
  {
   "cell_type": "code",
   "execution_count": 20,
   "id": "042a6de6",
   "metadata": {},
   "outputs": [
    {
     "name": "stdout",
     "output_type": "stream",
     "text": [
      "True\n"
     ]
    }
   ],
   "source": [
    "print(bool(2 ** 3 == 108 % 100) or bool('Cleese' == 'King Arthur'))"
   ]
  }
 ],
 "metadata": {
  "kernelspec": {
   "display_name": "Python 3",
   "language": "python",
   "name": "python3"
  },
  "language_info": {
   "codemirror_mode": {
    "name": "ipython",
    "version": 3
   },
   "file_extension": ".py",
   "mimetype": "text/x-python",
   "name": "python",
   "nbconvert_exporter": "python",
   "pygments_lexer": "ipython3",
   "version": "3.8.8"
  }
 },
 "nbformat": 4,
 "nbformat_minor": 5
}
